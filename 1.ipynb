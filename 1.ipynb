{
 "cells": [
  {
   "cell_type": "code",
   "execution_count": 8,
   "id": "f3018a5d",
   "metadata": {},
   "outputs": [
    {
     "name": "stdout",
     "output_type": "stream",
     "text": [
      "Enter n 198765\n",
      "567891\n",
      "198765 is not a pallindrome\n"
     ]
    }
   ],
   "source": [
    "n=int(input(\"Enter n \"))\n",
    "c=0\n",
    "rev=0\n",
    "a=n\n",
    "while n>0:\n",
    "    c+=1\n",
    "    d=n%10\n",
    "    rev=rev*10+d\n",
    "    n=n//10\n",
    "print(rev)\n",
    "if rev==a:\n",
    "    print(a,'is pallindrome')\n",
    "else:\n",
    "    print(a,'is not a pallindrome')"
   ]
  },
  {
   "cell_type": "code",
   "execution_count": null,
   "id": "dbdc34a4",
   "metadata": {},
   "outputs": [],
   "source": []
  }
 ],
 "metadata": {
  "kernelspec": {
   "display_name": "Python 3 (ipykernel)",
   "language": "python",
   "name": "python3"
  },
  "language_info": {
   "codemirror_mode": {
    "name": "ipython",
    "version": 3
   },
   "file_extension": ".py",
   "mimetype": "text/x-python",
   "name": "python",
   "nbconvert_exporter": "python",
   "pygments_lexer": "ipython3",
   "version": "3.10.9"
  }
 },
 "nbformat": 4,
 "nbformat_minor": 5
}
