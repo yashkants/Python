{
 "cells": [
  {
   "cell_type": "code",
   "execution_count": 1,
   "id": "fbb9a3e8",
   "metadata": {},
   "outputs": [
    {
     "name": "stdout",
     "output_type": "stream",
     "text": [
      "[6, 27, 46, 72, 1, 2, 6, 7, 61, 3, 2, 6, 7, 7, 2, 7, 7, 3, 7, 9, 6, 8, 3, 6, 3]\n"
     ]
    }
   ],
   "source": [
    "lon = [6,26,46,71,0,2,5,6,61,3,2,5,6,7,2,6,7,3,7,9,6,7,2,6,2]\n",
    "for i,j in enumerate(lon):\n",
    "    if j%2==0:\n",
    "        lon[i+1]=lon[i+1]+1\n",
    "print(lon)"
   ]
  }
 ],
 "metadata": {
  "kernelspec": {
   "display_name": "Python 3 (ipykernel)",
   "language": "python",
   "name": "python3"
  },
  "language_info": {
   "codemirror_mode": {
    "name": "ipython",
    "version": 3
   },
   "file_extension": ".py",
   "mimetype": "text/x-python",
   "name": "python",
   "nbconvert_exporter": "python",
   "pygments_lexer": "ipython3",
   "version": "3.10.9"
  }
 },
 "nbformat": 4,
 "nbformat_minor": 5
}
