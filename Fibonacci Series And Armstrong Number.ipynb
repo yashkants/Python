{
 "cells": [
  {
   "cell_type": "markdown",
   "id": "70cee107",
   "metadata": {},
   "source": [
    "# Fibonacci Series"
   ]
  },
  {
   "cell_type": "code",
   "execution_count": null,
   "id": "06747b25",
   "metadata": {},
   "outputs": [],
   "source": [
    "n=int(input(\"Enter n \"))\n",
    "a=0\n",
    "b=1\n",
    "for i in range(1,n+1):\n",
    "    print(a)\n",
    "    c=a\n",
    "    a=b\n",
    "    b=c+a"
   ]
  },
  {
   "cell_type": "markdown",
   "id": "c07ab26a",
   "metadata": {},
   "source": [
    "# Armstrong Number"
   ]
  },
  {
   "cell_type": "code",
   "execution_count": null,
   "id": "ca3f6e66",
   "metadata": {},
   "outputs": [],
   "source": [
    "n=int(input(\"enter n \"))\n",
    "a=n\n",
    "c=0\n",
    "arm=0\n",
    "b=a\n",
    "while n>0:\n",
    "    c+=1\n",
    "    n=n//10\n",
    "print(c)\n",
    "while a>0:\n",
    "    d=a%10\n",
    "    arm=arm+d**c\n",
    "    a=a//10\n",
    "if arm==b:\n",
    "    print(arm,'is armstrong')\n",
    "else:\n",
    "    print(arm,'Not a Armstrong Number')"
   ]
  }
 ],
 "metadata": {
  "kernelspec": {
   "display_name": "Python 3 (ipykernel)",
   "language": "python",
   "name": "python3"
  },
  "language_info": {
   "codemirror_mode": {
    "name": "ipython",
    "version": 3
   },
   "file_extension": ".py",
   "mimetype": "text/x-python",
   "name": "python",
   "nbconvert_exporter": "python",
   "pygments_lexer": "ipython3",
   "version": "3.10.9"
  }
 },
 "nbformat": 4,
 "nbformat_minor": 5
}
